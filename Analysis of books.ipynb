{
 "cells": [
  {
   "cell_type": "code",
   "execution_count": 1,
   "metadata": {},
   "outputs": [],
   "source": [
    "import pandas as pd\n",
    "import numpy as np\n",
    "import matplotlib.pyplot as plt\n",
    "# import stringProcess as sp\n",
    "from collections import defaultdict\n",
    "import os\n",
    "\n",
    "from sklearn.feature_extraction.text import TfidfVectorizer"
   ]
  },
  {
   "cell_type": "markdown",
   "metadata": {},
   "source": [
    "# Set up TF-IDF"
   ]
  },
  {
   "cell_type": "code",
   "execution_count": 2,
   "metadata": {},
   "outputs": [
    {
     "name": "stdout",
     "output_type": "stream",
     "text": [
      "C:\\Users\\User_E\\OneDrive - University of Southampton\\Data Mining - One Drive\\folder_with_books\\part2\\complete_book\n",
      "C:\\Users\\User_E\\OneDrive - University of Southampton\\Data Mining - One Drive\\folder_with_books\\part2\\complete_book01.txt\n"
     ]
    },
    {
     "data": {
      "text/plain": [
       "set"
      ]
     },
     "execution_count": 2,
     "metadata": {},
     "output_type": "execute_result"
    }
   ],
   "source": [
    "# create list with all the 24 books \n",
    "txtpath = os.getcwd() + '\\\\folder_with_books\\\\part2\\\\complete_book'\n",
    "print(txtpath)\n",
    "docs_unopened = []\n",
    "for i in range(24):\n",
    "    docs_unopened += [(txtpath + str(i+1).zfill(2) + '.txt')]\n",
    "# docs_unopened\n",
    "print(docs_unopened[0])\n",
    "type(docs_unopened)\n",
    "docs_unopened_set = set(docs_unopened)\n",
    "type(docs_unopened_set)"
   ]
  },
  {
   "cell_type": "code",
   "execution_count": 90,
   "metadata": {},
   "outputs": [
    {
     "name": "stdout",
     "output_type": "stream",
     "text": [
      "(24, 43038)\n"
     ]
    }
   ],
   "source": [
    "from sklearn.feature_extraction.text import TfidfVectorizer\n",
    "\n",
    "corpus = [open(f).read() for f in docs_unopened]\n",
    "vectorizer = TfidfVectorizer(stop_words='english', min_df= 0.1)\n",
    "\n",
    "X = vectorizer.fit_transform(corpus)\n",
    "print(X.shape)\n",
    "# print(vectorizer.get_feature_names())"
   ]
  },
  {
   "cell_type": "markdown",
   "metadata": {},
   "source": [
    "# Find top and bottom scoring words"
   ]
  },
  {
   "cell_type": "code",
   "execution_count": 91,
   "metadata": {},
   "outputs": [],
   "source": [
    "response = vectorizer.transform(corpus)\n",
    "feature_array = np.array(vectorizer.get_feature_names())\n",
    "tfidf_sorting = np.argsort(response.toarray()).flatten()[::-1]\n",
    "\n",
    "feature_scores = feature_array[tfidf_sorting]\n",
    "\n"
   ]
  },
  {
   "cell_type": "code",
   "execution_count": 92,
   "metadata": {},
   "outputs": [
    {
     "name": "stdout",
     "output_type": "stream",
     "text": [
      "top 5 ['herod' 'jews' 'great' 'king' 'men' 'did' 'antipater' 'sent' 'came'\n",
      " 'city' 'chap' 'josephus' 'time' 'son' 'agrippa' 'come' 'said' 'caesar'\n",
      " 'archelaus' 'people']\n",
      "low 5 ['insensi' 'trespass' 'inregular' 'inquest' 'inquireinto' 'inquisi'\n",
      " 'inquisition' 'inquisitors' 'trevisans' 'inreadiness' 'trevigo' 'tressed'\n",
      " 'inroadsof' 'inrolled' 'insafety' 'insanity' 'insatiable' 'insatiate'\n",
      " 'inscribedwith' 'imitatedthe']\n"
     ]
    }
   ],
   "source": [
    "print('top 5', feature_scores[:20])\n",
    "print('low 5', feature_scores[-20:])"
   ]
  },
  {
   "cell_type": "markdown",
   "metadata": {},
   "source": [
    "## find scores for each doc"
   ]
  },
  {
   "cell_type": "code",
   "execution_count": 94,
   "metadata": {},
   "outputs": [],
   "source": [
    "def top_tfidf_feats(row, features, top_n=25):\n",
    "    ''' Get top n tfidf values in row and return them with their corresponding feature names.'''\n",
    "    topn_ids = np.argsort(row)[::-1][:top_n]\n",
    "    top_feats = [(features[i], row[i]) for i in topn_ids]\n",
    "    df = pd.DataFrame(top_feats)\n",
    "    df.columns = ['feature', 'tfidf']\n",
    "    return df"
   ]
  },
  {
   "cell_type": "code",
   "execution_count": 95,
   "metadata": {},
   "outputs": [],
   "source": [
    "def top_feats_in_doc(X, features, row_id, top_n=25):\n",
    "    ''' Top tfidf features in specific document (matrix row) '''\n",
    "    row = np.squeeze(X[row_id].toarray())\n",
    "    return top_tfidf_feats(row, features, top_n)"
   ]
  },
  {
   "cell_type": "code",
   "execution_count": 96,
   "metadata": {},
   "outputs": [],
   "source": [
    "# vec = vec_pipe.named_steps['vec']\n",
    "features = vectorizer.get_feature_names()"
   ]
  },
  {
   "cell_type": "code",
   "execution_count": 97,
   "metadata": {},
   "outputs": [
    {
     "data": {
      "text/html": [
       "<div>\n",
       "<style scoped>\n",
       "    .dataframe tbody tr th:only-of-type {\n",
       "        vertical-align: middle;\n",
       "    }\n",
       "\n",
       "    .dataframe tbody tr th {\n",
       "        vertical-align: top;\n",
       "    }\n",
       "\n",
       "    .dataframe thead th {\n",
       "        text-align: right;\n",
       "    }\n",
       "</style>\n",
       "<table border=\"1\" class=\"dataframe\">\n",
       "  <thead>\n",
       "    <tr style=\"text-align: right;\">\n",
       "      <th></th>\n",
       "      <th>feature</th>\n",
       "      <th>tfidf</th>\n",
       "    </tr>\n",
       "  </thead>\n",
       "  <tbody>\n",
       "    <tr>\n",
       "      <th>0</th>\n",
       "      <td>commons</td>\n",
       "      <td>0.240635</td>\n",
       "    </tr>\n",
       "    <tr>\n",
       "      <th>1</th>\n",
       "      <td>tribunes</td>\n",
       "      <td>0.191229</td>\n",
       "    </tr>\n",
       "    <tr>\n",
       "      <th>2</th>\n",
       "      <td>city</td>\n",
       "      <td>0.190765</td>\n",
       "    </tr>\n",
       "    <tr>\n",
       "      <th>3</th>\n",
       "      <td>time</td>\n",
       "      <td>0.189046</td>\n",
       "    </tr>\n",
       "    <tr>\n",
       "      <th>4</th>\n",
       "      <td>people</td>\n",
       "      <td>0.185179</td>\n",
       "    </tr>\n",
       "    <tr>\n",
       "      <th>5</th>\n",
       "      <td>rome</td>\n",
       "      <td>0.172615</td>\n",
       "    </tr>\n",
       "    <tr>\n",
       "      <th>6</th>\n",
       "      <td>enemy</td>\n",
       "      <td>0.165416</td>\n",
       "    </tr>\n",
       "    <tr>\n",
       "      <th>7</th>\n",
       "      <td>mould</td>\n",
       "      <td>0.153194</td>\n",
       "    </tr>\n",
       "    <tr>\n",
       "      <th>8</th>\n",
       "      <td>war</td>\n",
       "      <td>0.149948</td>\n",
       "    </tr>\n",
       "    <tr>\n",
       "      <th>9</th>\n",
       "      <td>having</td>\n",
       "      <td>0.139076</td>\n",
       "    </tr>\n",
       "    <tr>\n",
       "      <th>10</th>\n",
       "      <td>consuls</td>\n",
       "      <td>0.136232</td>\n",
       "    </tr>\n",
       "    <tr>\n",
       "      <th>11</th>\n",
       "      <td>senate</td>\n",
       "      <td>0.136199</td>\n",
       "    </tr>\n",
       "    <tr>\n",
       "      <th>12</th>\n",
       "      <td>volscians</td>\n",
       "      <td>0.130352</td>\n",
       "    </tr>\n",
       "    <tr>\n",
       "      <th>13</th>\n",
       "      <td>patricians</td>\n",
       "      <td>0.129251</td>\n",
       "    </tr>\n",
       "    <tr>\n",
       "      <th>14</th>\n",
       "      <td>men</td>\n",
       "      <td>0.124599</td>\n",
       "    </tr>\n",
       "    <tr>\n",
       "      <th>15</th>\n",
       "      <td>roman</td>\n",
       "      <td>0.110420</td>\n",
       "    </tr>\n",
       "    <tr>\n",
       "      <th>16</th>\n",
       "      <td>fame</td>\n",
       "      <td>0.109561</td>\n",
       "    </tr>\n",
       "    <tr>\n",
       "      <th>17</th>\n",
       "      <td>ye</td>\n",
       "      <td>0.109513</td>\n",
       "    </tr>\n",
       "    <tr>\n",
       "      <th>18</th>\n",
       "      <td>consul</td>\n",
       "      <td>0.108456</td>\n",
       "    </tr>\n",
       "    <tr>\n",
       "      <th>19</th>\n",
       "      <td>great</td>\n",
       "      <td>0.096671</td>\n",
       "    </tr>\n",
       "  </tbody>\n",
       "</table>\n",
       "</div>"
      ],
      "text/plain": [
       "       feature     tfidf\n",
       "0      commons  0.240635\n",
       "1     tribunes  0.191229\n",
       "2         city  0.190765\n",
       "3         time  0.189046\n",
       "4       people  0.185179\n",
       "5         rome  0.172615\n",
       "6        enemy  0.165416\n",
       "7        mould  0.153194\n",
       "8          war  0.149948\n",
       "9       having  0.139076\n",
       "10     consuls  0.136232\n",
       "11      senate  0.136199\n",
       "12   volscians  0.130352\n",
       "13  patricians  0.129251\n",
       "14         men  0.124599\n",
       "15       roman  0.110420\n",
       "16        fame  0.109561\n",
       "17          ye  0.109513\n",
       "18      consul  0.108456\n",
       "19       great  0.096671"
      ]
     },
     "execution_count": 97,
     "metadata": {},
     "output_type": "execute_result"
    }
   ],
   "source": [
    "\n",
    "top_feats_in_doc(X, features, 4, top_n=20)\n",
    "    "
   ]
  },
  {
   "cell_type": "markdown",
   "metadata": {},
   "source": [
    "# LSA "
   ]
  },
  {
   "cell_type": "code",
   "execution_count": 98,
   "metadata": {},
   "outputs": [
    {
     "name": "stdout",
     "output_type": "stream",
     "text": [
      "0.8899717853465464\n"
     ]
    }
   ],
   "source": [
    "from sklearn.decomposition import TruncatedSVD\n",
    "# we want A = U * S * V^T\n",
    "LSA = TruncatedSVD(n_components =15 , n_iter = 10) # , n_iter = 100\n",
    "LSA.fit(X)\n",
    "var_explained = LSA.explained_variance_ratio_.sum()\n",
    "print(var_explained)"
   ]
  },
  {
   "cell_type": "code",
   "execution_count": 99,
   "metadata": {},
   "outputs": [
    {
     "data": {
      "text/plain": [
       "array([0.00260401, 0.00042664, 0.00085452, ..., 0.00018979, 0.00033386,\n",
       "       0.00044959])"
      ]
     },
     "execution_count": 99,
     "metadata": {},
     "output_type": "execute_result"
    }
   ],
   "source": [
    "# Values for first row of V :\n",
    "LSA.components_[0]"
   ]
  },
  {
   "cell_type": "code",
   "execution_count": 100,
   "metadata": {},
   "outputs": [
    {
     "name": "stdout",
     "output_type": "stream",
     "text": [
      "Book 1:\n",
      "roman\n",
      "time\n",
      "war\n",
      "city\n",
      "people\n",
      "men\n",
      "great\n",
      "rome\n",
      "ii\n",
      "king\n",
      " \n",
      "Book 2:\n",
      "empire\n",
      "roman\n",
      "justinian\n",
      "lib\n",
      "torn\n",
      "emperor\n",
      "constantinople\n",
      "decline\n",
      "belisarius\n",
      "chap\n",
      " \n",
      "Book 3:\n",
      "rome\n",
      "enemy\n",
      "war\n",
      "senate\n",
      "consul\n",
      "having\n",
      "consuls\n",
      "time\n",
      "tribunes\n",
      "book\n",
      " \n",
      "Book 4:\n",
      "ii\n",
      "iii\n",
      "athenians\n",
      "peloponnesian\n",
      "monians\n",
      "called\n",
      "war\n",
      "strab\n",
      "town\n",
      "cf\n",
      " \n",
      "Book 5:\n",
      "cf\n",
      "et\n",
      "nero\n",
      "book\n",
      "tacitus\n",
      "otho\n",
      "vitellius\n",
      "galba\n",
      "annals\n",
      "note\n",
      " \n",
      "Book 6:\n",
      "athenians\n",
      "peloponnesian\n",
      "cf\n",
      "et\n",
      "monians\n",
      "nero\n",
      "war\n",
      "tacitus\n",
      "otho\n",
      "vitellius\n",
      " \n",
      "Book 7:\n",
      "cf\n",
      "et\n",
      "gold\n",
      "silver\n",
      "lib\n",
      "note\n",
      "sc\n",
      "rings\n",
      "minium\n",
      "sec\n",
      " \n",
      "Book 8:\n",
      "gold\n",
      "lib\n",
      "silver\n",
      "rings\n",
      "minium\n",
      "sec\n",
      "copper\n",
      "valpy\n",
      "kind\n",
      "nero\n",
      " \n",
      "Book 9:\n",
      "sulla\n",
      "gaius\n",
      "roman\n",
      "gracchus\n",
      "chap\n",
      "julian\n",
      "iv\n",
      "marius\n",
      "constantius\n",
      "government\n",
      " \n",
      "Book 10:\n",
      "sulla\n",
      "torn\n",
      "gaius\n",
      "mahomet\n",
      "gracchus\n",
      "lib\n",
      "book\n",
      "iv\n",
      "caliph\n",
      "marius\n",
      " \n",
      "Book 11:\n",
      "chap\n",
      "justinian\n",
      "belisarius\n",
      "nero\n",
      "lib\n",
      "tom\n",
      "book\n",
      "chosroes\n",
      "procopius\n",
      "suet\n",
      " \n",
      "Book 12:\n",
      "otho\n",
      "vitellius\n",
      "history\n",
      "livy\n",
      "hannibal\n",
      "samnites\n",
      "galba\n",
      "pretor\n",
      "section\n",
      "soldiers\n",
      " \n",
      "Book 13:\n",
      "otho\n",
      "vitellius\n",
      "tribunes\n",
      "history\n",
      "galba\n",
      "section\n",
      "sulla\n",
      "book\n",
      "torn\n",
      "titus\n",
      " \n",
      "Book 14:\n",
      "nero\n",
      "book\n",
      "appen\n",
      "suet\n",
      "xvi\n",
      "genealogical\n",
      "annal\n",
      "tacit\n",
      "xv\n",
      "thrasea\n",
      " \n",
      "Book 15:\n",
      "strab\n",
      "pp\n",
      "town\n",
      "vol\n",
      "plin\n",
      "herod\n",
      "steph\n",
      "site\n",
      "germanicus\n",
      "ancient\n",
      " \n"
     ]
    }
   ],
   "source": [
    "terms = vectorizer.get_feature_names()\n",
    "for i, comp in enumerate(LSA.components_):\n",
    "    termsInComp = zip(terms,comp)\n",
    "    sortedTerms = sorted(termsInComp, key = lambda x: x[1], reverse=True)[:10]\n",
    "    print(\"Book %d:\" % (i+1))\n",
    "    for term in sortedTerms:\n",
    "        print(term[0])\n",
    "    print(\" \")"
   ]
  },
  {
   "cell_type": "markdown",
   "metadata": {},
   "source": [
    "# K means"
   ]
  },
  {
   "cell_type": "code",
   "execution_count": 101,
   "metadata": {},
   "outputs": [],
   "source": [
    "from sklearn.cluster import KMeans"
   ]
  },
  {
   "cell_type": "code",
   "execution_count": 102,
   "metadata": {},
   "outputs": [],
   "source": [
    "# Get the k-means model\n",
    "X_LSA = LSA.fit_transform(X)"
   ]
  },
  {
   "cell_type": "code",
   "execution_count": 103,
   "metadata": {},
   "outputs": [
    {
     "data": {
      "text/plain": [
       "(24, 15)"
      ]
     },
     "execution_count": 103,
     "metadata": {},
     "output_type": "execute_result"
    }
   ],
   "source": [
    "X_LSA.shape"
   ]
  },
  {
   "cell_type": "code",
   "execution_count": 120,
   "metadata": {},
   "outputs": [
    {
     "data": {
      "text/plain": [
       "[-9.311849556351756,\n",
       " -7.8985076636093705,\n",
       " -6.950280701856487,\n",
       " -5.7379748089925116,\n",
       " -4.767532179926646,\n",
       " -3.6635989931123323,\n",
       " -3.1838903801121443]"
      ]
     },
     "execution_count": 120,
     "metadata": {},
     "output_type": "execute_result"
    }
   ],
   "source": [
    "# takes donkey years - do not run again\n",
    "\n",
    "Nc = range(3,10)\n",
    "\n",
    "kmeans = [KMeans(n_clusters=i) for i in Nc]\n",
    "\n",
    "kmeans\n",
    "\n",
    "score = [kmeans[i].fit(X_LSA).score(X_LSA) for i in range(len(kmeans))]\n",
    "\n",
    "score\n",
    "\n"
   ]
  },
  {
   "cell_type": "code",
   "execution_count": 123,
   "metadata": {
    "scrolled": true
   },
   "outputs": [
    {
     "data": {
      "image/png": "[encoded data removed]",
      "text/plain": [
       "<Figure size 360x360 with 1 Axes>"
      ]
     },
     "metadata": {
      "needs_background": "light"
     },
     "output_type": "display_data"
    }
   ],
   "source": [
    "plt.figure(figsize=(5,5))\n",
    "plt.plot(Nc[:],score[:])\n",
    "\n",
    "plt.xlabel('Number of Clusters')\n",
    "# plt.xticks([7,8,9,10,11])\n",
    "plt.ylabel('Score')\n",
    "\n",
    "plt.title('Elbow graph')\n",
    "plt.show()"
   ]
  },
  {
   "cell_type": "code",
   "execution_count": 124,
   "metadata": {},
   "outputs": [
    {
     "name": "stdout",
     "output_type": "stream",
     "text": [
      "[3, 6, 4, 1, 2, 0, 1, 3, 2, 2, 4, 1, 1, 2, 6, 0, 6, 2, 0, 7, 1, 5, 1, 0]\n"
     ]
    }
   ],
   "source": [
    "kmeans_new = KMeans(n_clusters=8).fit(X_LSA)\n",
    "clusters = kmeans_new.labels_.tolist()\n",
    "print(clusters)"
   ]
  },
  {
   "cell_type": "code",
   "execution_count": 125,
   "metadata": {},
   "outputs": [
    {
     "name": "stdout",
     "output_type": "stream",
     "text": [
      "['book01', 'book02', 'book03', 'book04', 'book05', 'book06', 'book07', 'book08', 'book09', 'book10', 'book11', 'book12', 'book13', 'book14', 'book15', 'book16', 'book17', 'book18', 'book19', 'book20', 'book21', 'book22', 'book23', 'book24']\n"
     ]
    }
   ],
   "source": [
    "books = []\n",
    "for i in range(24):\n",
    "    books += ['book' + str(i+1).zfill(2)]\n",
    "print(books)"
   ]
  },
  {
   "cell_type": "code",
   "execution_count": 126,
   "metadata": {},
   "outputs": [],
   "source": [
    "# I want to create a table with the group and what groups are in it\n",
    "def find_cluster(clusters,books,group_number):\n",
    "    books_in_cluster = []\n",
    "    indices = [i for i, x in enumerate(clusters) if x == group_number]\n",
    "    for j in range(len(indices)):\n",
    "        books_in_cluster += [books[indices[j]]]\n",
    "    return books_in_cluster\n",
    "        "
   ]
  },
  {
   "cell_type": "code",
   "execution_count": 127,
   "metadata": {},
   "outputs": [
    {
     "name": "stdout",
     "output_type": "stream",
     "text": [
      "[['book06', 'book16', 'book19', 'book24'], ['book04', 'book07', 'book12', 'book13', 'book21', 'book23'], ['book05', 'book09', 'book10', 'book14', 'book18'], ['book01', 'book08'], ['book03', 'book11'], ['book22'], ['book02', 'book15', 'book17'], ['book20']]\n"
     ]
    }
   ],
   "source": [
    "cluster_set =[]\n",
    "for i in range(8):\n",
    "    if len(find_cluster(clusters,books,i)) != 0:\n",
    "        cluster_set += [find_cluster(clusters,books,i)]\n",
    "    else:\n",
    "        break\n",
    "print(cluster_set)"
   ]
  },
  {
   "cell_type": "code",
   "execution_count": 128,
   "metadata": {
    "scrolled": true
   },
   "outputs": [
    {
     "name": "stdout",
     "output_type": "stream",
     "text": [
      "Top terms per cluster:\n",
      "Cluster 1: jews , herod , king , great , men , god , did , city , josephus , came ,\n",
      "Cluster 2: roman , empire , chap , emperor , justinian , lib , torn , decline , constantinople , ofthe ,\n",
      "Cluster 3: rome , roman , time , war , people , enemy , city , senate , romans , consul ,\n",
      "Cluster 4: ii , iii , city , called , strab , son , place , town , iv , river ,\n",
      "Cluster 5: athenians , peloponnesian , war , monians , time , athens , lacedaemonians , syracusans , hath , sea ,\n",
      "Cluster 6: cf , et , sc , note , ut , ad , ch , nec , sed , ann ,\n",
      "Cluster 7: nero , book , time , tacitus , men , germanicus , annals , otho , rome , tiberius ,\n",
      "Cluster 8: gold , silver , lib , rings , minium , sec , copper , valpy , called , kind ,\n"
     ]
    }
   ],
   "source": [
    "print(\"Top terms per cluster:\")\n",
    "original_space_centroids = LSA.inverse_transform(kmeans_new.cluster_centers_)\n",
    "order_centroids = original_space_centroids.argsort()[:, ::-1]\n",
    "\n",
    "cluster_words = []\n",
    "terms = vectorizer.get_feature_names()\n",
    "for i in range(8):\n",
    "    print(\"Cluster %d:\" % (i+1), end='')\n",
    "    for ind in order_centroids[i, :10]:\n",
    "        print(' %s' % terms[ind], ',' ,end='')\n",
    "    print()"
   ]
  },
  {
   "cell_type": "code",
   "execution_count": 130,
   "metadata": {},
   "outputs": [
    {
     "data": {
      "text/html": [
       "<div>\n",
       "<style scoped>\n",
       "    .dataframe tbody tr th:only-of-type {\n",
       "        vertical-align: middle;\n",
       "    }\n",
       "\n",
       "    .dataframe tbody tr th {\n",
       "        vertical-align: top;\n",
       "    }\n",
       "\n",
       "    .dataframe thead th {\n",
       "        text-align: right;\n",
       "    }\n",
       "</style>\n",
       "<table border=\"1\" class=\"dataframe\">\n",
       "  <thead>\n",
       "    <tr style=\"text-align: right;\">\n",
       "      <th></th>\n",
       "      <th>feature</th>\n",
       "      <th>tfidf</th>\n",
       "    </tr>\n",
       "  </thead>\n",
       "  <tbody>\n",
       "    <tr>\n",
       "      <th>0</th>\n",
       "      <td>gold</td>\n",
       "      <td>0.373167</td>\n",
       "    </tr>\n",
       "    <tr>\n",
       "      <th>1</th>\n",
       "      <td>silver</td>\n",
       "      <td>0.291300</td>\n",
       "    </tr>\n",
       "    <tr>\n",
       "      <th>2</th>\n",
       "      <td>lib</td>\n",
       "      <td>0.225343</td>\n",
       "    </tr>\n",
       "    <tr>\n",
       "      <th>3</th>\n",
       "      <td>rings</td>\n",
       "      <td>0.191177</td>\n",
       "    </tr>\n",
       "    <tr>\n",
       "      <th>4</th>\n",
       "      <td>minium</td>\n",
       "      <td>0.174169</td>\n",
       "    </tr>\n",
       "    <tr>\n",
       "      <th>5</th>\n",
       "      <td>sec</td>\n",
       "      <td>0.171806</td>\n",
       "    </tr>\n",
       "    <tr>\n",
       "      <th>6</th>\n",
       "      <td>copper</td>\n",
       "      <td>0.143383</td>\n",
       "    </tr>\n",
       "    <tr>\n",
       "      <th>7</th>\n",
       "      <td>valpy</td>\n",
       "      <td>0.138134</td>\n",
       "    </tr>\n",
       "    <tr>\n",
       "      <th>8</th>\n",
       "      <td>called</td>\n",
       "      <td>0.118735</td>\n",
       "    </tr>\n",
       "    <tr>\n",
       "      <th>9</th>\n",
       "      <td>kind</td>\n",
       "      <td>0.110254</td>\n",
       "    </tr>\n",
       "    <tr>\n",
       "      <th>10</th>\n",
       "      <td>used</td>\n",
       "      <td>0.108134</td>\n",
       "    </tr>\n",
       "    <tr>\n",
       "      <th>11</th>\n",
       "      <td>time</td>\n",
       "      <td>0.103893</td>\n",
       "    </tr>\n",
       "    <tr>\n",
       "      <th>12</th>\n",
       "      <td>lond</td>\n",
       "      <td>0.097777</td>\n",
       "    </tr>\n",
       "    <tr>\n",
       "      <th>13</th>\n",
       "      <td>dioscorides</td>\n",
       "      <td>0.094056</td>\n",
       "    </tr>\n",
       "    <tr>\n",
       "      <th>14</th>\n",
       "      <td>quicksilver</td>\n",
       "      <td>0.090087</td>\n",
       "    </tr>\n",
       "    <tr>\n",
       "      <th>15</th>\n",
       "      <td>th</td>\n",
       "      <td>0.084811</td>\n",
       "    </tr>\n",
       "    <tr>\n",
       "      <th>16</th>\n",
       "      <td>use</td>\n",
       "      <td>0.081652</td>\n",
       "    </tr>\n",
       "    <tr>\n",
       "      <th>17</th>\n",
       "      <td>account</td>\n",
       "      <td>0.080570</td>\n",
       "    </tr>\n",
       "    <tr>\n",
       "      <th>18</th>\n",
       "      <td>substance</td>\n",
       "      <td>0.079678</td>\n",
       "    </tr>\n",
       "    <tr>\n",
       "      <th>19</th>\n",
       "      <td>order</td>\n",
       "      <td>0.076330</td>\n",
       "    </tr>\n",
       "  </tbody>\n",
       "</table>\n",
       "</div>"
      ],
      "text/plain": [
       "        feature     tfidf\n",
       "0          gold  0.373167\n",
       "1        silver  0.291300\n",
       "2           lib  0.225343\n",
       "3         rings  0.191177\n",
       "4        minium  0.174169\n",
       "5           sec  0.171806\n",
       "6        copper  0.143383\n",
       "7         valpy  0.138134\n",
       "8        called  0.118735\n",
       "9          kind  0.110254\n",
       "10         used  0.108134\n",
       "11         time  0.103893\n",
       "12         lond  0.097777\n",
       "13  dioscorides  0.094056\n",
       "14  quicksilver  0.090087\n",
       "15           th  0.084811\n",
       "16          use  0.081652\n",
       "17      account  0.080570\n",
       "18    substance  0.079678\n",
       "19        order  0.076330"
      ]
     },
     "execution_count": 130,
     "metadata": {},
     "output_type": "execute_result"
    }
   ],
   "source": [
    "top_feats_in_doc(X, features, 19, top_n=20)   "
   ]
  },
  {
   "cell_type": "markdown",
   "metadata": {},
   "source": [
    "# Find Simularities between books"
   ]
  },
  {
   "cell_type": "code",
   "execution_count": 131,
   "metadata": {},
   "outputs": [],
   "source": [
    "from sklearn.feature_extraction.text import CountVectorizer\n",
    "from sklearn.metrics.pairwise import cosine_similarity"
   ]
  },
  {
   "cell_type": "code",
   "execution_count": 132,
   "metadata": {},
   "outputs": [],
   "source": [
    "from sklearn.metrics.pairwise import linear_kernel\n",
    "\n",
    "def find_similar(tfidf_matrix, index, top_n = 5):\n",
    "    cosine_similarities = linear_kernel(tfidf_matrix[index:index+1], tfidf_matrix).flatten()\n",
    "    related_docs_indices = [i for i in cosine_similarities.argsort()[::-1] if i != index]\n",
    "    return [(index, cosine_similarities[index]) for index in related_docs_indices][0:top_n]"
   ]
  },
  {
   "cell_type": "code",
   "execution_count": 133,
   "metadata": {},
   "outputs": [
    {
     "name": "stdout",
     "output_type": "stream",
     "text": [
      "for document 1\n",
      "0.5785450884266795 8\n",
      "0.4858660519273998 16\n",
      "0.3778267751075643 7\n",
      "0.3756886632290012 4\n",
      "0.3600026044897707 9\n",
      "------------------\n",
      "for document 2\n",
      "0.5612748134699534 17\n",
      "0.5484586541280206 15\n",
      "0.47564169845070275 10\n",
      "0.4686753562350805 18\n",
      "0.4608095922055456 14\n",
      "------------------\n",
      "for document 3\n",
      "0.8581215265124582 11\n",
      "0.3997235935276553 18\n",
      "0.3495411770653842 10\n",
      "0.3407820782322051 14\n",
      "0.3288342126962353 16\n",
      "------------------\n",
      "for document 4\n",
      "0.8362815657076712 13\n",
      "0.6648826947817545 12\n",
      "0.6445238355337732 7\n",
      "0.6329113393126224 23\n",
      "0.5486105766918644 21\n",
      "------------------\n",
      "for document 5\n",
      "0.8622855970563752 14\n",
      "0.7055073236305041 10\n",
      "0.6453329728212204 18\n",
      "0.5100963274475522 15\n",
      "0.45435073899820005 9\n",
      "------------------\n",
      "for document 6\n",
      "0.9028772305077934 24\n",
      "0.8931457711116928 19\n",
      "0.7976026438817816 16\n",
      "0.42505117195151465 14\n",
      "0.4132254846354382 18\n",
      "------------------\n",
      "for document 7\n",
      "0.9007399137152085 23\n",
      "0.8159569485497913 21\n",
      "0.7962667564021036 12\n",
      "0.6445238355337732 4\n",
      "0.58883225542389 13\n",
      "------------------\n",
      "for document 8\n",
      "0.5785450884266795 1\n",
      "0.523435550221118 16\n",
      "0.30764414848354754 7\n",
      "0.29089219875533123 19\n",
      "0.2694713327689782 3\n",
      "------------------\n",
      "for document 9\n",
      "0.5351344284074695 14\n",
      "0.5348660873418651 18\n",
      "0.5110036529055076 10\n",
      "0.4771402875709908 4\n",
      "0.4642519981614023 15\n",
      "------------------\n",
      "for document 10\n",
      "0.8983373801470387 18\n",
      "0.7055073236305041 5\n",
      "0.6811101985699465 14\n",
      "0.5281847733456083 15\n",
      "0.5110036529055076 9\n",
      "------------------\n",
      "for document 11\n",
      "0.8581215265124582 3\n",
      "0.4931114228709811 18\n",
      "0.45090604626676256 10\n",
      "0.4487656502139586 14\n",
      "0.4286495943200013 5\n",
      "------------------\n",
      "for document 12\n",
      "0.8999433844029266 21\n",
      "0.7962667564021036 7\n",
      "0.7404038313516274 13\n",
      "0.6648826947817545 4\n",
      "0.6350332409511715 23\n",
      "------------------\n",
      "for document 13\n",
      "0.8362815657076712 4\n",
      "0.7404038313516274 12\n",
      "0.620499614407775 21\n",
      "0.58883225542389 7\n",
      "0.526167156540177 23\n",
      "------------------\n",
      "for document 14\n",
      "0.8622855970563752 5\n",
      "0.6811101985699465 10\n",
      "0.6306858475289996 18\n",
      "0.5351344284074695 9\n",
      "0.5063027998526946 15\n",
      "------------------\n",
      "for document 15\n",
      "0.5484586541280206 2\n",
      "0.5296295573752254 17\n",
      "0.5281847733456083 10\n",
      "0.5260890833942397 4\n",
      "0.5212237878048223 18\n",
      "------------------\n",
      "for document 16\n",
      "0.7976026438817816 6\n",
      "0.7955302844057934 19\n",
      "0.7810588510226991 24\n",
      "0.523435550221118 8\n",
      "0.4858660519273998 1\n",
      "------------------\n",
      "for document 17\n",
      "0.5612748134699534 2\n",
      "0.5296295573752254 15\n",
      "0.4088456067644865 4\n",
      "0.38590357022549204 18\n",
      "0.37555505361605157 14\n",
      "------------------\n",
      "for document 18\n",
      "0.8983373801470387 10\n",
      "0.6453329728212204 5\n",
      "0.6306858475289996 14\n",
      "0.5348660873418651 9\n",
      "0.5212237878048223 15\n",
      "------------------\n",
      "for document 19\n",
      "0.8931457711116928 6\n",
      "0.8651642888580708 24\n",
      "0.7955302844057934 16\n",
      "0.44556311091783496 14\n",
      "0.4432547695099507 18\n",
      "------------------\n",
      "for document 20\n",
      "0.2844015745595453 21\n",
      "0.2810855683651305 7\n",
      "0.26906372124483924 19\n",
      "0.24658316626759852 16\n",
      "0.24345799610824087 1\n",
      "------------------\n",
      "for document 21\n",
      "0.8999433844029266 12\n",
      "0.8159569485497913 7\n",
      "0.6297397062214759 23\n",
      "0.620499614407775 13\n",
      "0.5486105766918644 4\n",
      "------------------\n",
      "for document 22\n",
      "0.1883263480177642 2\n",
      "0.14750391297071477 1\n",
      "0.13709272861449817 17\n",
      "0.13298692991565358 4\n",
      "0.13264290598843004 20\n",
      "------------------\n",
      "for document 23\n",
      "0.9007399137152085 7\n",
      "0.6350332409511715 12\n",
      "0.6329113393126224 4\n",
      "0.6297397062214759 21\n",
      "0.526167156540177 13\n",
      "------------------\n",
      "for document 24\n",
      "0.9028772305077934 6\n",
      "0.8651642888580708 19\n",
      "0.7810588510226991 16\n",
      "0.4479628282187539 14\n",
      "0.43997976653096593 18\n",
      "------------------\n"
     ]
    }
   ],
   "source": [
    "for j in range(24):\n",
    "    print('for document', j+1)\n",
    "    for index, score in find_similar(X_LSA, j):\n",
    "        print(score, index +1)\n",
    "    print('------------------')"
   ]
  },
  {
   "cell_type": "markdown",
   "metadata": {},
   "source": [
    "# Multidemensional Scaling"
   ]
  },
  {
   "cell_type": "code",
   "execution_count": 135,
   "metadata": {},
   "outputs": [],
   "source": [
    "dist = 1 - cosine_similarity(X_LSA)"
   ]
  },
  {
   "cell_type": "code",
   "execution_count": 136,
   "metadata": {},
   "outputs": [],
   "source": [
    "import os  # for os.path.basename\n",
    "\n",
    "import matplotlib.pyplot as plt\n",
    "import matplotlib as mpl\n",
    "\n",
    "from sklearn.manifold import MDS\n",
    "\n",
    "MDS()\n",
    "\n",
    "mds = MDS(n_components=2, dissimilarity=\"precomputed\", random_state=1)\n",
    "\n",
    "pos = mds.fit_transform(dist)  # shape (n_components, n_samples)\n",
    "\n",
    "xs, ys = pos[:, 0], pos[:, 1]\n"
   ]
  },
  {
   "cell_type": "code",
   "execution_count": 137,
   "metadata": {},
   "outputs": [],
   "source": [
    "cluster_colors = {0: 'b', 1: 'g', 2: 'r', 3: 'c', 4:'tab:orange', \n",
    "                  5: 'y', 6: 'tab:pink', 7: 'm'}\n",
    "\n",
    "#set up cluster names using a dict\n",
    "cluster_names = {0: cluster_words[0], \n",
    "                 1: cluster_words[1], \n",
    "                 2: cluster_words[2], \n",
    "                 3: cluster_words[3], \n",
    "                 4: cluster_words[4],\n",
    "                 5: cluster_words[5],\n",
    "                 6: cluster_words[6], \n",
    "                 7: cluster_words[7]\n",
    "                }"
   ]
  },
  {
   "cell_type": "code",
   "execution_count": 138,
   "metadata": {
    "scrolled": true
   },
   "outputs": [
    {
     "name": "stderr",
     "output_type": "stream",
     "text": [
      "C:\\Users\\User_E\\Anaconda3\\lib\\site-packages\\matplotlib\\cbook\\__init__.py:424: MatplotlibDeprecationWarning: \n",
      "Passing one of 'on', 'true', 'off', 'false' as a boolean is deprecated; use an actual boolean (True/False) instead.\n",
      "  warn_deprecated(\"2.2\", \"Passing one of 'on', 'true', 'off', 'false' as a \"\n",
      "C:\\Users\\User_E\\Anaconda3\\lib\\site-packages\\ipykernel_launcher.py:42: DeprecationWarning: \n",
      ".ix is deprecated. Please use\n",
      ".loc for label based indexing or\n",
      ".iloc for positional indexing\n",
      "\n",
      "See the documentation here:\n",
      "http://pandas.pydata.org/pandas-docs/stable/indexing.html#ix-indexer-is-deprecated\n"
     ]
    },
    {
     "data": {
      "image/png": "[encoded data removed]",
      "text/plain": [
       "<Figure size 720x360 with 1 Axes>"
      ]
     },
     "metadata": {},
     "output_type": "display_data"
    },
    {
     "data": {
      "text/plain": [
       "<Figure size 432x288 with 0 Axes>"
      ]
     },
     "metadata": {},
     "output_type": "display_data"
    }
   ],
   "source": [
    "%matplotlib inline \n",
    "#create data frame that has the result of the MDS plus the cluster numbers and titles\n",
    "df = pd.DataFrame(dict(x=xs, y=ys, label=clusters, title=books)) \n",
    "\n",
    "#group by cluster\n",
    "groups = df.groupby('label')\n",
    "\n",
    "\n",
    "# set up plot\n",
    "fig, ax = plt.subplots(figsize=(10, 5)) # set size\n",
    "ax.margins(0.05) # adds 5% padding to the autoscaling\n",
    "\n",
    "#iterate through groups to layer the plot\n",
    "#note that I use the cluster_name and cluster_color dicts with the 'name' lookup to return the appropriate color/label\n",
    "for name, group in groups:\n",
    "    ax.plot(group.x, group.y, marker='o', linestyle='', ms=12, \n",
    "            label=cluster_names[name], color=cluster_colors[name], \n",
    "            mec='none')\n",
    "    ax.set_aspect('auto')\n",
    "    ax.tick_params(\\\n",
    "        axis= 'x',         \n",
    "        which='both',      \n",
    "        bottom='on',      \n",
    "        top='on',        \n",
    "        labelbottom='off')\n",
    "    ax.tick_params(\\\n",
    "        axis= 'y',         \n",
    "        which='both',      \n",
    "        left='off',      \n",
    "        top='off',       \n",
    "        labelleft='off')\n",
    "    \n",
    "    \n",
    "chartBox = ax.get_position()\n",
    "ax.set_position([chartBox.x0, chartBox.y0, chartBox.width*0.6, chartBox.height])\n",
    "ax.legend(numpoints=1,loc='upper center', bbox_to_anchor=(1.45, 0.8))  #show legend with only 1 point\n",
    "\n",
    "#add label in x,y position with the label as the film title\n",
    "for i in range(len(df)):\n",
    "    ax.text(df.ix[i]['x'], df.ix[i]['y'], df.ix[i]['title'], size=11)  \n",
    "\n",
    "    \n",
    "    \n",
    "plt.show() #show the plot\n",
    "#uncomment the below to save the plot if need be\n",
    "plt.savefig('clusters_small_noaxes.jpg', dpi=200)"
   ]
  },
  {
   "cell_type": "code",
   "execution_count": 313,
   "metadata": {},
   "outputs": [],
   "source": [
    "\n",
    "plt.close()"
   ]
  },
  {
   "cell_type": "markdown",
   "metadata": {},
   "source": [
    "# Hierarchical Clustering"
   ]
  },
  {
   "cell_type": "code",
   "execution_count": 140,
   "metadata": {},
   "outputs": [
    {
     "data": {
      "image/png": "[encoded data removed]",
      "text/plain": [
       "<Figure size 360x360 with 1 Axes>"
      ]
     },
     "metadata": {
      "needs_background": "light"
     },
     "output_type": "display_data"
    }
   ],
   "source": [
    "\n",
    "from scipy.cluster.hierarchy import ward,linkage, dendrogram\n",
    "\n",
    "linkage_matrix = linkage(dist) #define the linkage_matrix using ward clustering pre-computed distances\n",
    "\n",
    "fig, ax = plt.subplots(figsize=(5, 5)) # set size\n",
    "ax = dendrogram(linkage_matrix, orientation=\"right\", labels=books);\n",
    "\n",
    "plt.tick_params(\\\n",
    "    axis= 'x',          # changes apply to the x-axis\n",
    "    which='both',      # both major and minor ticks are affected\n",
    "    bottom='on',      # ticks along the bottom edge are off\n",
    "    top='off',         # ticks along the top edge are off\n",
    "    labelbottom='off')\n",
    "\n",
    "plt.tight_layout() #show plot with tight layout\n",
    "\n",
    "#uncomment below to save figure\n",
    "plt.savefig('linkage_clusters.png', dpi=200) #save figure as ward_clusters"
   ]
  }
 ],
 "metadata": {
  "kernelspec": {
   "display_name": "Python 3",
   "language": "python",
   "name": "python3"
  },
  "language_info": {
   "codemirror_mode": {
    "name": "ipython",
    "version": 3
   },
   "file_extension": ".py",
   "mimetype": "text/x-python",
   "name": "python",
   "nbconvert_exporter": "python",
   "pygments_lexer": "ipython3",
   "version": "3.6.7"
  }
 },
 "nbformat": 4,
 "nbformat_minor": 2
}
